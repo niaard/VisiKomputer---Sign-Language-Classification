{
  "cells": [
    {
      "attachments": {},
      "cell_type": "markdown",
      "metadata": {
        "id": "RZO20LxJ1PYb"
      },
      "source": [
        "**KANIA A.P**\n",
        "\n",
        "**1301204140**"
      ]
    },
    {
      "cell_type": "code",
      "execution_count": null,
      "metadata": {
        "id": "zX4Kg8DUTKWO",
        "vscode": {
          "languageId": "python"
        }
      },
      "outputs": [],
      "source": [
        "#@title Licensed under the Apache License, Version 2.0 (the \"License\");\n",
        "# you may not use this file except in compliance with the License.\n",
        "# You may obtain a copy of the License at\n",
        "#\n",
        "# https://www.apache.org/licenses/LICENSE-2.0\n",
        "#\n",
        "# Unless required by applicable law or agreed to in writing, software\n",
        "# distributed under the License is distributed on an \"AS IS\" BASIS,\n",
        "# WITHOUT WARRANTIES OR CONDITIONS OF ANY KIND, either express or implied.\n",
        "# See the License for the specific language governing permissions and\n",
        "# limitations under the License."
      ]
    },
    {
      "cell_type": "code",
      "execution_count": 8,
      "metadata": {
        "id": "wYtuKeK0dImp",
        "vscode": {
          "languageId": "python"
        }
      },
      "outputs": [],
      "source": [
        "import csv\n",
        "import numpy as np\n",
        "import tensorflow as tf\n",
        "from tensorflow.keras.preprocessing.image import ImageDataGenerator\n",
        "from google.colab import files"
      ]
    },
    {
      "attachments": {},
      "cell_type": "markdown",
      "metadata": {
        "id": "EmMyh9_mkDHF"
      },
      "source": [
        "The data for this exercise is available at: https://www.kaggle.com/datamunge/sign-language-mnist/home\n",
        "\n",
        "Sign up and download to find **2 CSV files: sign_mnist_test.csv and sign_mnist_train.csv** -- You will upload both of them using this button before you can continue.\n"
      ]
    },
    {
      "cell_type": "code",
      "execution_count": 10,
      "metadata": {
        "colab": {
          "base_uri": "https://localhost:8080/",
          "height": 109
        },
        "id": "qjSzckQqKREV",
        "outputId": "93f27b86-cf35-4f07-c846-82d2efae3f75",
        "vscode": {
          "languageId": "python"
        }
      },
      "outputs": [
        {
          "data": {
            "text/html": [
              "\n",
              "     <input type=\"file\" id=\"files-057a18c5-8231-48f7-85dc-39a3d92159bd\" name=\"files[]\" multiple disabled\n",
              "        style=\"border:none\" />\n",
              "     <output id=\"result-057a18c5-8231-48f7-85dc-39a3d92159bd\">\n",
              "      Upload widget is only available when the cell has been executed in the\n",
              "      current browser session. Please rerun this cell to enable.\n",
              "      </output>\n",
              "      <script>// Copyright 2017 Google LLC\n",
              "//\n",
              "// Licensed under the Apache License, Version 2.0 (the \"License\");\n",
              "// you may not use this file except in compliance with the License.\n",
              "// You may obtain a copy of the License at\n",
              "//\n",
              "//      http://www.apache.org/licenses/LICENSE-2.0\n",
              "//\n",
              "// Unless required by applicable law or agreed to in writing, software\n",
              "// distributed under the License is distributed on an \"AS IS\" BASIS,\n",
              "// WITHOUT WARRANTIES OR CONDITIONS OF ANY KIND, either express or implied.\n",
              "// See the License for the specific language governing permissions and\n",
              "// limitations under the License.\n",
              "\n",
              "/**\n",
              " * @fileoverview Helpers for google.colab Python module.\n",
              " */\n",
              "(function(scope) {\n",
              "function span(text, styleAttributes = {}) {\n",
              "  const element = document.createElement('span');\n",
              "  element.textContent = text;\n",
              "  for (const key of Object.keys(styleAttributes)) {\n",
              "    element.style[key] = styleAttributes[key];\n",
              "  }\n",
              "  return element;\n",
              "}\n",
              "\n",
              "// Max number of bytes which will be uploaded at a time.\n",
              "const MAX_PAYLOAD_SIZE = 100 * 1024;\n",
              "\n",
              "function _uploadFiles(inputId, outputId) {\n",
              "  const steps = uploadFilesStep(inputId, outputId);\n",
              "  const outputElement = document.getElementById(outputId);\n",
              "  // Cache steps on the outputElement to make it available for the next call\n",
              "  // to uploadFilesContinue from Python.\n",
              "  outputElement.steps = steps;\n",
              "\n",
              "  return _uploadFilesContinue(outputId);\n",
              "}\n",
              "\n",
              "// This is roughly an async generator (not supported in the browser yet),\n",
              "// where there are multiple asynchronous steps and the Python side is going\n",
              "// to poll for completion of each step.\n",
              "// This uses a Promise to block the python side on completion of each step,\n",
              "// then passes the result of the previous step as the input to the next step.\n",
              "function _uploadFilesContinue(outputId) {\n",
              "  const outputElement = document.getElementById(outputId);\n",
              "  const steps = outputElement.steps;\n",
              "\n",
              "  const next = steps.next(outputElement.lastPromiseValue);\n",
              "  return Promise.resolve(next.value.promise).then((value) => {\n",
              "    // Cache the last promise value to make it available to the next\n",
              "    // step of the generator.\n",
              "    outputElement.lastPromiseValue = value;\n",
              "    return next.value.response;\n",
              "  });\n",
              "}\n",
              "\n",
              "/**\n",
              " * Generator function which is called between each async step of the upload\n",
              " * process.\n",
              " * @param {string} inputId Element ID of the input file picker element.\n",
              " * @param {string} outputId Element ID of the output display.\n",
              " * @return {!Iterable<!Object>} Iterable of next steps.\n",
              " */\n",
              "function* uploadFilesStep(inputId, outputId) {\n",
              "  const inputElement = document.getElementById(inputId);\n",
              "  inputElement.disabled = false;\n",
              "\n",
              "  const outputElement = document.getElementById(outputId);\n",
              "  outputElement.innerHTML = '';\n",
              "\n",
              "  const pickedPromise = new Promise((resolve) => {\n",
              "    inputElement.addEventListener('change', (e) => {\n",
              "      resolve(e.target.files);\n",
              "    });\n",
              "  });\n",
              "\n",
              "  const cancel = document.createElement('button');\n",
              "  inputElement.parentElement.appendChild(cancel);\n",
              "  cancel.textContent = 'Cancel upload';\n",
              "  const cancelPromise = new Promise((resolve) => {\n",
              "    cancel.onclick = () => {\n",
              "      resolve(null);\n",
              "    };\n",
              "  });\n",
              "\n",
              "  // Wait for the user to pick the files.\n",
              "  const files = yield {\n",
              "    promise: Promise.race([pickedPromise, cancelPromise]),\n",
              "    response: {\n",
              "      action: 'starting',\n",
              "    }\n",
              "  };\n",
              "\n",
              "  cancel.remove();\n",
              "\n",
              "  // Disable the input element since further picks are not allowed.\n",
              "  inputElement.disabled = true;\n",
              "\n",
              "  if (!files) {\n",
              "    return {\n",
              "      response: {\n",
              "        action: 'complete',\n",
              "      }\n",
              "    };\n",
              "  }\n",
              "\n",
              "  for (const file of files) {\n",
              "    const li = document.createElement('li');\n",
              "    li.append(span(file.name, {fontWeight: 'bold'}));\n",
              "    li.append(span(\n",
              "        `(${file.type || 'n/a'}) - ${file.size} bytes, ` +\n",
              "        `last modified: ${\n",
              "            file.lastModifiedDate ? file.lastModifiedDate.toLocaleDateString() :\n",
              "                                    'n/a'} - `));\n",
              "    const percent = span('0% done');\n",
              "    li.appendChild(percent);\n",
              "\n",
              "    outputElement.appendChild(li);\n",
              "\n",
              "    const fileDataPromise = new Promise((resolve) => {\n",
              "      const reader = new FileReader();\n",
              "      reader.onload = (e) => {\n",
              "        resolve(e.target.result);\n",
              "      };\n",
              "      reader.readAsArrayBuffer(file);\n",
              "    });\n",
              "    // Wait for the data to be ready.\n",
              "    let fileData = yield {\n",
              "      promise: fileDataPromise,\n",
              "      response: {\n",
              "        action: 'continue',\n",
              "      }\n",
              "    };\n",
              "\n",
              "    // Use a chunked sending to avoid message size limits. See b/62115660.\n",
              "    let position = 0;\n",
              "    do {\n",
              "      const length = Math.min(fileData.byteLength - position, MAX_PAYLOAD_SIZE);\n",
              "      const chunk = new Uint8Array(fileData, position, length);\n",
              "      position += length;\n",
              "\n",
              "      const base64 = btoa(String.fromCharCode.apply(null, chunk));\n",
              "      yield {\n",
              "        response: {\n",
              "          action: 'append',\n",
              "          file: file.name,\n",
              "          data: base64,\n",
              "        },\n",
              "      };\n",
              "\n",
              "      let percentDone = fileData.byteLength === 0 ?\n",
              "          100 :\n",
              "          Math.round((position / fileData.byteLength) * 100);\n",
              "      percent.textContent = `${percentDone}% done`;\n",
              "\n",
              "    } while (position < fileData.byteLength);\n",
              "  }\n",
              "\n",
              "  // All done.\n",
              "  yield {\n",
              "    response: {\n",
              "      action: 'complete',\n",
              "    }\n",
              "  };\n",
              "}\n",
              "\n",
              "scope.google = scope.google || {};\n",
              "scope.google.colab = scope.google.colab || {};\n",
              "scope.google.colab._files = {\n",
              "  _uploadFiles,\n",
              "  _uploadFilesContinue,\n",
              "};\n",
              "})(self);\n",
              "</script> "
            ],
            "text/plain": [
              "<IPython.core.display.HTML object>"
            ]
          },
          "metadata": {},
          "output_type": "display_data"
        },
        {
          "name": "stdout",
          "output_type": "stream",
          "text": [
            "Saving sign_mnist_test.csv to sign_mnist_test.csv\n",
            "Saving sign_mnist_train.csv to sign_mnist_train.csv\n"
          ]
        }
      ],
      "source": [
        "uploaded=files.upload()"
      ]
    },
    {
      "cell_type": "code",
      "execution_count": 11,
      "metadata": {
        "colab": {
          "base_uri": "https://localhost:8080/"
        },
        "id": "4kxw-_rmcnVu",
        "outputId": "677ee63d-0c9b-45eb-898e-8ea500ed07c5",
        "vscode": {
          "languageId": "python"
        }
      },
      "outputs": [
        {
          "name": "stdout",
          "output_type": "stream",
          "text": [
            "(27455, 28, 28)\n",
            "(27455,)\n",
            "(7172, 28, 28)\n",
            "(7172,)\n"
          ]
        }
      ],
      "source": [
        "def get_data(filename):\n",
        "    with open(filename) as training_file:\n",
        "        lines = training_file.readlines()\n",
        "        lines = lines[1:]  # Skip the first line with column headers\n",
        "        \n",
        "        labels = []\n",
        "        images = []\n",
        "        \n",
        "        for line in lines:\n",
        "            values = line.strip().split(',')\n",
        "            label = int(values[0])\n",
        "            pixel_values = np.array(values[1:], dtype=np.float32)\n",
        "            image = np.array_split(pixel_values, 28)  # Split pixel values into 28x28 array\n",
        "            \n",
        "            labels.append(label)\n",
        "            images.append(image)\n",
        "        \n",
        "        labels = np.array(labels)\n",
        "        images = np.array(images)\n",
        "        \n",
        "    return images, labels\n",
        "\n",
        "training_images, training_labels = get_data('/content/sign_mnist_train.csv')\n",
        "testing_images, testing_labels = get_data('/content/sign_mnist_test.csv')\n",
        "\n",
        "# Clip labels to the valid range of 0-9\n",
        "training_labels = np.clip(training_labels, 0, 9)\n",
        "testing_labels = np.clip(testing_labels, 0, 9)\n",
        "\n",
        "# Keep these\n",
        "print(training_images.shape)\n",
        "print(training_labels.shape)\n",
        "print(testing_images.shape)\n",
        "print(testing_labels.shape)\n",
        "\n",
        "# Their output should be:\n",
        "# (27455, 28, 28)\n",
        "# (27455,)\n",
        "# (7172, 28, 28)\n",
        "# (7172,)"
      ]
    },
    {
      "cell_type": "code",
      "execution_count": 12,
      "metadata": {
        "colab": {
          "base_uri": "https://localhost:8080/"
        },
        "id": "awoqRpyZdQkD",
        "outputId": "40142efd-58e4-4331-9417-d964e6060192",
        "vscode": {
          "languageId": "python"
        }
      },
      "outputs": [
        {
          "name": "stdout",
          "output_type": "stream",
          "text": [
            "(27455, 28, 28, 1)\n",
            "(7172, 28, 28, 1)\n"
          ]
        }
      ],
      "source": [
        "# In this section you will have to add another dimension to the data\n",
        "# So, for example, if your array is (10000, 28, 28)\n",
        "# You will need to make it (10000, 28, 28, 1)\n",
        "# Hint: np.expand_dims\n",
        "\n",
        "# Add another dimension to training_images and testing_images\n",
        "training_images = np.expand_dims(training_images, axis=-1)\n",
        "testing_images = np.expand_dims(testing_images, axis=-1)\n",
        "\n",
        "# Create an ImageDataGenerator and do Image Augmentation\n",
        "train_datagen = ImageDataGenerator(\n",
        "    rotation_range=10,  # Rotate images randomly by up to 10 degrees\n",
        "    width_shift_range=0.1,  # Shift images horizontally by up to 10% of the width\n",
        "    height_shift_range=0.1,  # Shift images vertically by up to 10% of the height\n",
        "    shear_range=0.2,  # Apply shear transformation with a shear intensity of 0.2\n",
        "    zoom_range=0.2,  # Zoom images randomly by up to 20%\n",
        "    horizontal_flip=True,  # Flip images horizontally\n",
        "    vertical_flip=False,  # Do not flip images vertically\n",
        "    fill_mode='nearest'  # Fill any newly created pixels after rotation or shifting\n",
        ")\n",
        "\n",
        "validation_datagen = ImageDataGenerator(\n",
        "    rotation_range=5,  # Rotate images randomly by up to 5 degrees\n",
        "    width_shift_range=0.05,  # Shift images horizontally by up to 5% of the width\n",
        "    height_shift_range=0.05,  # Shift images vertically by up to 5% of the height\n",
        "    shear_range=0.1,  # Apply shear transformation with a shear intensity of 0.1\n",
        "    zoom_range=0.1,  # Zoom images randomly by up to 10%\n",
        "    horizontal_flip=False,  # Do not flip images horizontally\n",
        "    vertical_flip=False,  # Do not flip images vertically\n",
        "    fill_mode='constant'  # Fill any newly created pixels after rotation or shifting with a constant value\n",
        ")\n",
        "\n",
        "# Keep These\n",
        "print(training_images.shape)\n",
        "print(testing_images.shape)\n",
        "    \n",
        "# Their output should be:\n",
        "# (27455, 28, 28, 1)\n",
        "# (7172, 28, 28, 1)"
      ]
    },
    {
      "attachments": {},
      "cell_type": "markdown",
      "metadata": {
        "id": "FmbniTyidKaq"
      },
      "source": [
        "Berikut Saya coba dengan epoch = 20"
      ]
    },
    {
      "cell_type": "code",
      "execution_count": 15,
      "metadata": {
        "colab": {
          "base_uri": "https://localhost:8080/"
        },
        "id": "-TmNrsZ5xDOK",
        "outputId": "1d76906c-459e-4124-9e6e-4bb20e8d658e",
        "vscode": {
          "languageId": "python"
        }
      },
      "outputs": [
        {
          "name": "stdout",
          "output_type": "stream",
          "text": [
            "Epoch 1/20\n",
            "857/857 [==============================] - 32s 36ms/step - loss: 0.5337 - accuracy: 0.8416 - val_loss: 0.2252 - val_accuracy: 0.9261\n",
            "Epoch 2/20\n",
            "857/857 [==============================] - 34s 39ms/step - loss: 0.0349 - accuracy: 0.9930 - val_loss: 0.1275 - val_accuracy: 0.9545\n",
            "Epoch 3/20\n",
            "857/857 [==============================] - 34s 40ms/step - loss: 0.0059 - accuracy: 0.9994 - val_loss: 0.1145 - val_accuracy: 0.9616\n",
            "Epoch 4/20\n",
            "857/857 [==============================] - 33s 39ms/step - loss: 9.4430e-04 - accuracy: 1.0000 - val_loss: 0.1202 - val_accuracy: 0.9681\n",
            "Epoch 5/20\n",
            "857/857 [==============================] - 32s 37ms/step - loss: 4.1833e-04 - accuracy: 1.0000 - val_loss: 0.1398 - val_accuracy: 0.9683\n",
            "Epoch 6/20\n",
            "857/857 [==============================] - 32s 38ms/step - loss: 2.2182e-04 - accuracy: 1.0000 - val_loss: 0.1327 - val_accuracy: 0.9735\n",
            "Epoch 7/20\n",
            "857/857 [==============================] - 32s 38ms/step - loss: 1.1629e-04 - accuracy: 1.0000 - val_loss: 0.1446 - val_accuracy: 0.9697\n",
            "Epoch 8/20\n",
            "857/857 [==============================] - 32s 37ms/step - loss: 6.6365e-05 - accuracy: 1.0000 - val_loss: 0.1598 - val_accuracy: 0.9650\n",
            "Epoch 9/20\n",
            "857/857 [==============================] - 31s 37ms/step - loss: 0.0163 - accuracy: 0.9952 - val_loss: 0.1370 - val_accuracy: 0.9650\n",
            "Epoch 10/20\n",
            "857/857 [==============================] - 31s 37ms/step - loss: 3.5097e-04 - accuracy: 1.0000 - val_loss: 0.1383 - val_accuracy: 0.9678\n",
            "Epoch 11/20\n",
            "857/857 [==============================] - 32s 38ms/step - loss: 1.3223e-04 - accuracy: 1.0000 - val_loss: 0.1394 - val_accuracy: 0.9699\n",
            "Epoch 12/20\n",
            "857/857 [==============================] - 31s 37ms/step - loss: 7.7123e-05 - accuracy: 1.0000 - val_loss: 0.1403 - val_accuracy: 0.9704\n",
            "Epoch 13/20\n",
            "857/857 [==============================] - 34s 40ms/step - loss: 4.5969e-05 - accuracy: 1.0000 - val_loss: 0.1414 - val_accuracy: 0.9699\n",
            "Epoch 14/20\n",
            "857/857 [==============================] - 31s 36ms/step - loss: 2.8948e-05 - accuracy: 1.0000 - val_loss: 0.1452 - val_accuracy: 0.9704\n",
            "Epoch 15/20\n",
            "857/857 [==============================] - 31s 37ms/step - loss: 1.9738e-05 - accuracy: 1.0000 - val_loss: 0.1468 - val_accuracy: 0.9729\n",
            "Epoch 16/20\n",
            "857/857 [==============================] - 33s 38ms/step - loss: 1.3317e-05 - accuracy: 1.0000 - val_loss: 0.1581 - val_accuracy: 0.9728\n",
            "Epoch 17/20\n",
            "857/857 [==============================] - 31s 36ms/step - loss: 8.0448e-06 - accuracy: 1.0000 - val_loss: 0.1594 - val_accuracy: 0.9739\n",
            "Epoch 18/20\n",
            "857/857 [==============================] - 31s 36ms/step - loss: 4.9929e-06 - accuracy: 1.0000 - val_loss: 0.1678 - val_accuracy: 0.9734\n",
            "Epoch 19/20\n",
            "857/857 [==============================] - 34s 40ms/step - loss: 3.6716e-06 - accuracy: 1.0000 - val_loss: 0.1841 - val_accuracy: 0.9699\n",
            "Epoch 20/20\n",
            "857/857 [==============================] - 31s 36ms/step - loss: 0.0137 - accuracy: 0.9961 - val_loss: 0.1206 - val_accuracy: 0.9700\n",
            "225/225 [==============================] - 2s 9ms/step - loss: 42.9176 - accuracy: 0.9366\n",
            "Test loss: 42.917598724365234\n",
            "Test accuracy: 0.9365588426589966\n",
            "Expected output: [6.92426086682151, 0.56609035]\n"
          ]
        }
      ],
      "source": [
        "# Define the model\n",
        "model = tf.keras.models.Sequential([\n",
        "    tf.keras.layers.Conv2D(32, (3, 3), activation='relu', input_shape=(28, 28, 1)),\n",
        "    tf.keras.layers.MaxPooling2D(2, 2),\n",
        "    tf.keras.layers.Conv2D(64, (3, 3), activation='relu'),\n",
        "    tf.keras.layers.MaxPooling2D(2, 2),\n",
        "    tf.keras.layers.Flatten(),\n",
        "    tf.keras.layers.Dense(64, activation='relu'),\n",
        "    tf.keras.layers.Dense(10, activation='softmax')\n",
        "])\n",
        "\n",
        "# Compile the model\n",
        "model.compile(optimizer='adam',\n",
        "              loss='sparse_categorical_crossentropy',\n",
        "              metrics=['accuracy'])\n",
        "\n",
        "# Image preprocessing: rescale the image\n",
        "train_datagen = ImageDataGenerator(rescale=1./255)\n",
        "test_datagen = ImageDataGenerator(rescale=1./255)\n",
        "\n",
        "# Clip labels to the valid range of 0-9\n",
        "training_labels = np.clip(training_labels, 0, 9)\n",
        "testing_labels = np.clip(testing_labels, 0, 9)\n",
        "\n",
        "# Train the model\n",
        "history = model.fit(\n",
        "    train_datagen.flow(training_images, training_labels, batch_size=32),\n",
        "    steps_per_epoch=len(training_images) // 32,\n",
        "    epochs=20,\n",
        "    validation_data=test_datagen.flow(testing_images, testing_labels, batch_size=32),\n",
        "    validation_steps=len(testing_images) // 32\n",
        ")\n",
        "\n",
        "# Evaluate the model\n",
        "test_loss, test_accuracy = model.evaluate(testing_images, testing_labels)\n",
        "print('Test loss:', test_loss)\n",
        "print('Test accuracy:', test_accuracy)\n",
        "\n",
        "# The output from model.evaluate should be close to:\n",
        "expected_output = [6.92426086682151, 0.56609035]\n",
        "\n",
        "print(\"Expected output:\", expected_output)"
      ]
    },
    {
      "attachments": {},
      "cell_type": "markdown",
      "metadata": {
        "id": "DMTuSxBD1KLB"
      },
      "source": [
        "grafik yang memvisualisasikan perubahan akurasi dan loss pada data pelatihan dan validasi."
      ]
    },
    {
      "cell_type": "code",
      "execution_count": 20,
      "metadata": {
        "colab": {
          "base_uri": "https://localhost:8080/",
          "height": 887
        },
        "id": "_Q3Zpr46dsij",
        "outputId": "74c10e2a-ea5a-41a0-cd19-0b6a31a91ddd",
        "vscode": {
          "languageId": "python"
        }
      },
      "outputs": [
        {
          "data": {
            "image/png": "[encoded data removed]",
            "text/plain": [
              "<Figure size 640x480 with 1 Axes>"
            ]
          },
          "metadata": {},
          "output_type": "display_data"
        },
        {
          "data": {
            "image/png": "[encoded data removed]",
            "text/plain": [
              "<Figure size 640x480 with 1 Axes>"
            ]
          },
          "metadata": {},
          "output_type": "display_data"
        }
      ],
      "source": [
        "# Plot the chart for accuracy and loss on both training and validation\n",
        "\n",
        "import matplotlib.pyplot as plt\n",
        "acc = history.history['accuracy']\n",
        "val_acc = history.history['val_accuracy']\n",
        "loss = history.history['loss']\n",
        "val_loss = history.history['val_loss']\n",
        "\n",
        "epochs = range(len(acc))\n",
        "\n",
        "plt.plot(epochs, acc, 'r', label='Training accuracy')\n",
        "plt.plot(epochs, val_acc, 'b', label='Validation accuracy')\n",
        "plt.title('Training and validation accuracy')\n",
        "plt.legend()\n",
        "plt.figure()\n",
        "\n",
        "plt.plot(epochs, loss, 'r', label='Training loss')\n",
        "plt.plot(epochs, val_loss, 'b', label='Validation loss')\n",
        "plt.title('Training and validation loss')\n",
        "plt.legend()\n",
        "\n",
        "plt.show()"
      ]
    },
    {
      "attachments": {},
      "cell_type": "markdown",
      "metadata": {
        "id": "Ewq2gS69d-bh"
      },
      "source": [
        "Grafik pertama menampilkan perubahan akurasi pada data pelatihan dan validasi seiring dengan peningkatan jumlah epoch. Grafik kedua menampilkan perubahan loss pada data pelatihan dan validasi seiring dengan peningkatan jumlah epoch.\n",
        "\n",
        "Grafik \"Training and validation loss\" menunjukka\" terjadi overfitting, kita dapat melihat bahwa loss pada data training terus meningkat/naik, sementara loss pada data validasi menurun.\n",
        "\n",
        "Grafik \"Training and validation accuracy\" terjadi overfitting, kita dapat melihat bahwa loss pada data training terus menurun, sementara loss pada data validasi mulai naik atau tidak berubah banyak.\n",
        "\n",
        "Hal ini menunjukkan bahwa model kita terlalu fokus pada data pelatihan dan tidak bisa memprediksi data yang belum pernah dilihat dengan baik. Model ini seolah-olah \"menghafal\" data pelatihan tetapi tidak bisa menggeneralisasi pengetahuannya untuk data baru."
      ]
    },
    {
      "attachments": {},
      "cell_type": "markdown",
      "metadata": {
        "id": "oJQZHA8eyuPS"
      },
      "source": [
        "KESIMPULAN :\n",
        "\n",
        "Pada setiap epoch, model dilatih menggunakan batch data sebanyak 857 sampel dengan ukuran batch 32. Proses pelatihan dilakukan selama beberapa epoch (dalam contoh ini, 20 epoch).\n",
        "\n",
        "Pada akhir pelatihan, model mencapai akurasi pelatihan yang tinggi dengan akurasi sekitar 99,61% pada epoch terakhir.\n",
        "\n",
        "Evaluasi model menggunakan dataset pengujian menunjukkan bahwa akurasi pengujian adalah sekitar 93,66% dengan nilai loss sebesar 42,92.\n",
        "\n",
        "Meskipun model mencapai akurasi pelatihan yang tinggi, terdapat perbedaan yang signifikan antara akurasi pelatihan dan akurasi pengujian. Hal ini mungkin menandakan adanya overfitting, yaitu ketika model terlalu \"menghafal\" data pelatihan dan tidak dapat umum untuk data baru.\n",
        "\n",
        "Perbedaan besar antara testing_loss dan training_loss juga dapat menunjukkan adanya overfitting. training_loss sangat rendah (dekat nol), sedangkan testing_loss relatif tinggi.\n",
        "\n",
        "Hasil ini dapat digunakan sebagai referensi untuk mengevaluasi performa model dan untuk memperbaiki model jika diperlukan, seperti dengan menerapkan teknik regularisasi atau peningkatan dataset."
      ]
    }
  ],
  "metadata": {
    "colab": {
      "provenance": []
    },
    "kernelspec": {
      "display_name": "Python 3",
      "name": "python3"
    }
  },
  "nbformat": 4,
  "nbformat_minor": 0
}
